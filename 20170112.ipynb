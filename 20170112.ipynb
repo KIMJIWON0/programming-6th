{
 "cells": [
  {
   "cell_type": "code",
   "execution_count": 1,
   "metadata": {
    "collapsed": true
   },
   "outputs": [],
   "source": [
    "lines = '''나의 두 눈을 감으면 \n",
    "떠오르는 그 눈동자 \n",
    "\n",
    "자꾸 가슴이 시려서 잊혀지길 바랬어 \n",
    "\n",
    "꿈이라면 이제 깨어났으면 제발\n",
    "정말 네가 나의 운명인 걸까 넌 Falling You \n",
    "\n",
    "운명처럼 너를 Falling \n",
    "또 나를 부르네 Calling\n",
    "헤어 나올 수 없어 제발 Hold Me \n",
    "  \n",
    "내 인연의 끈이 넌지 \n",
    "기다린 네가 맞는지 \n",
    "가슴이 먼저 왜 내려앉는지 \n",
    "\n",
    "(Stay With Me) \n",
    "내 마음속 깊은 곳에 네가 사는지 \n",
    "(Stay With Me) \n",
    "내 안에 숨겨왔던 진실 \n",
    "\n",
    "나의 두 눈을 감으면 \n",
    "떠오르는 그 눈동자 \n",
    "\n",
    "자꾸 가슴이 시려서 잊혀지길 바랬어 \n",
    "\n",
    "꿈이라면 이제 깨어났으면 제발\n",
    "정말 네가 나의 운명인 걸까 넌 Falling You \n",
    "\n",
    "가슴은 뛰고 있어 \n",
    "여전히 널 보고 있어 \n",
    "자꾸만 숨이 막혀서 \n",
    "\n",
    "아직은 멀리에서\n",
    "너를 지켜보고 싶어 \n",
    "내가 또 왜 이러는지  \n",
    "\n",
    "처음 너를 봤을 때부터 다르게 \n",
    "운명의 시간은 또 더디게 갔지 \n",
    "내 가슴은 널 향했고 내 심장은 다시 또 뛰었고 \n",
    " \n",
    "꺼져버리던 희미한 불빛 \n",
    "너로 인해 다시 타오르는 눈빛 \n",
    "마치 오래전부터 널 사랑한 것 같아\n",
    "무언가에 이끌리듯 끌려온 것 같아 \n",
    "\n",
    "(Stay With Me) \n",
    "내 마음속 깊은 곳에 네가 사는지 \n",
    "(Stay WIth Me)\n",
    "내 안에 숨겨왔던 진실 \n",
    "\n",
    "나의 두 눈을 감으면 \n",
    "떠오르는 그 눈동자 \n",
    "\n",
    "자꾸 가슴이 시려서 잊혀지길 바랬어 \n",
    "\n",
    "꿈이라면 이제 깨어났으면 제발\n",
    "정말 네가 나의 운명인걸까 넌 Falling You'''"
   ]
  },
  {
   "cell_type": "code",
   "execution_count": 2,
   "metadata": {
    "collapsed": true
   },
   "outputs": [],
   "source": [
    "with open('도깨비.txt', 'wt') as f:\n",
    "    f.write(lines)"
   ]
  },
  {
   "cell_type": "code",
   "execution_count": 4,
   "metadata": {
    "collapsed": false
   },
   "outputs": [
    {
     "name": "stdout",
     "output_type": "stream",
     "text": [
      "나의 두 눈을 감으면 \n",
      "떠오르는 그 눈동자 \n",
      "\n",
      "자꾸 가슴이 시려서 잊혀지길 바랬어 \n",
      "\n",
      "꿈이라면 이제 깨어났으면 제발\n",
      "정말 네가 나의 운명인 걸까 넌 Falling You \n",
      "\n",
      "운명처럼 너를 Falling \n",
      "또 나를 부르네 Calling\n",
      "헤어 나올 수 없어 제발 Hold Me \n",
      "  \n",
      "내 인연의 끈이 넌지 \n",
      "기다린 네가 맞는지 \n",
      "가슴이 먼저 왜 내려앉는지 \n",
      "\n",
      "(Stay With Me) \n",
      "내 마음속 깊은 곳에 네가 사는지 \n",
      "(Stay With Me) \n",
      "내 안에 숨겨왔던 진실 \n",
      "\n",
      "나의 두 눈을 감으면 \n",
      "떠오르는 그 눈동자 \n",
      "\n",
      "자꾸 가슴이 시려서 잊혀지길 바랬어 \n",
      "\n",
      "꿈이라면 이제 깨어났으면 제발\n",
      "정말 네가 나의 운명인 걸까 넌 Falling You \n",
      "\n",
      "가슴은 뛰고 있어 \n",
      "여전히 널 보고 있어 \n",
      "자꾸만 숨이 막혀서 \n",
      "\n",
      "아직은 멀리에서\n",
      "너를 지켜보고 싶어 \n",
      "내가 또 왜 이러는지  \n",
      "\n",
      "처음 너를 봤을 때부터 다르게 \n",
      "운명의 시간은 또 더디게 갔지 \n",
      "내 가슴은 널 향했고 내 심장은 다시 또 뛰었고 \n",
      " \n",
      "꺼져버리던 희미한 불빛 \n",
      "너로 인해 다시 타오르는 눈빛 \n",
      "마치 오래전부터 널 사랑한 것 같아\n",
      "무언가에 이끌리듯 끌려온 것 같아 \n",
      "\n",
      "(Stay With Me) \n",
      "내 마음속 깊은 곳에 네가 사는지 \n",
      "(Stay WIth Me)\n",
      "내 안에 숨겨왔던 진실 \n",
      "\n",
      "나의 두 눈을 감으면 \n",
      "떠오르는 그 눈동자 \n",
      "\n",
      "자꾸 가슴이 시려서 잊혀지길 바랬어 \n",
      "\n",
      "꿈이라면 이제 깨어났으면 제발\n",
      "정말 네가 나의 운명인걸까 넌 Falling You"
     ]
    }
   ],
   "source": [
    "with open('도깨비.txt', 'rt') as f:\n",
    "    for line in f:\n",
    "        print(line, end='')"
   ]
  },
  {
   "cell_type": "markdown",
   "metadata": {},
   "source": [
    "## 클래스"
   ]
  },
  {
   "cell_type": "code",
   "execution_count": 78,
   "metadata": {
    "collapsed": true
   },
   "outputs": [],
   "source": [
    "class Person:\n",
    "    def __init__(self, name, age, region):\n",
    "        self.name = name\n",
    "        self.age = age\n",
    "        self.region = region\n",
    "        self.region_list = [self.region]\n",
    "    \n",
    "    def say_hello(self):\n",
    "        print('반가워. {}. 너는 {}에서 왔구나.'.format(self.name, self.region))\n",
    "    \n",
    "    def move_to(self, region):\n",
    "        self.region = region\n",
    "        self.region_list.append(region)\n",
    "    \n",
    "    def __getitem__(self, key):\n",
    "        return self.region_list[key]\n",
    "    \n",
    "    def __setitem__(self, key, value):\n",
    "        self.region_list[key] = value"
   ]
  },
  {
   "cell_type": "code",
   "execution_count": 79,
   "metadata": {
    "collapsed": true
   },
   "outputs": [],
   "source": [
    "tom = Person('Tom', 10, 'Seou')"
   ]
  },
  {
   "cell_type": "code",
   "execution_count": 80,
   "metadata": {
    "collapsed": true
   },
   "outputs": [],
   "source": [
    "steve = Person('Steve', 8, 'Pusan')"
   ]
  },
  {
   "cell_type": "code",
   "execution_count": 81,
   "metadata": {
    "collapsed": true
   },
   "outputs": [],
   "source": [
    "gongyou = Person('공유', 37, '도깨비나라')"
   ]
  },
  {
   "cell_type": "code",
   "execution_count": 82,
   "metadata": {
    "collapsed": false
   },
   "outputs": [
    {
     "data": {
      "text/plain": [
       "('Tom', 10, 'Seou')"
      ]
     },
     "execution_count": 82,
     "metadata": {},
     "output_type": "execute_result"
    }
   ],
   "source": [
    "tom.name, tom.age, tom.region"
   ]
  },
  {
   "cell_type": "code",
   "execution_count": 83,
   "metadata": {
    "collapsed": false
   },
   "outputs": [
    {
     "data": {
      "text/plain": [
       "('공유', 37, '도깨비나라')"
      ]
     },
     "execution_count": 83,
     "metadata": {},
     "output_type": "execute_result"
    }
   ],
   "source": [
    "(gongyou.name, gongyou.age, gongyou.region)"
   ]
  },
  {
   "cell_type": "code",
   "execution_count": 84,
   "metadata": {
    "collapsed": false
   },
   "outputs": [
    {
     "name": "stdout",
     "output_type": "stream",
     "text": [
      "반가워. 공유. 너는 도깨비나라에서 왔구나.\n",
      "반가워. 공유. 너는 서울대에서 왔구나.\n"
     ]
    }
   ],
   "source": [
    "gongyou.say_hello()\n",
    "gongyou.move_to('서울대')\n",
    "gongyou.say_hello()"
   ]
  },
  {
   "cell_type": "code",
   "execution_count": 85,
   "metadata": {
    "collapsed": false
   },
   "outputs": [
    {
     "name": "stdout",
     "output_type": "stream",
     "text": [
      "반가워. Tom. 너는 Seou에서 왔구나.\n"
     ]
    }
   ],
   "source": [
    "tom.say_hello()"
   ]
  },
  {
   "cell_type": "code",
   "execution_count": 86,
   "metadata": {
    "collapsed": false
   },
   "outputs": [
    {
     "data": {
      "text/plain": [
       "'도깨비나라'"
      ]
     },
     "execution_count": 86,
     "metadata": {},
     "output_type": "execute_result"
    }
   ],
   "source": [
    "gongyou[0]"
   ]
  },
  {
   "cell_type": "code",
   "execution_count": 87,
   "metadata": {
    "collapsed": false
   },
   "outputs": [
    {
     "data": {
      "text/plain": [
       "'서울대'"
      ]
     },
     "execution_count": 87,
     "metadata": {},
     "output_type": "execute_result"
    }
   ],
   "source": [
    "gongyou[1]"
   ]
  },
  {
   "cell_type": "code",
   "execution_count": 88,
   "metadata": {
    "collapsed": true
   },
   "outputs": [],
   "source": [
    "gongyou[1] = '서울대입구역'"
   ]
  },
  {
   "cell_type": "code",
   "execution_count": 91,
   "metadata": {
    "collapsed": false
   },
   "outputs": [
    {
     "data": {
      "text/plain": [
       "'서울대입구역'"
      ]
     },
     "execution_count": 91,
     "metadata": {},
     "output_type": "execute_result"
    }
   ],
   "source": [
    "gongyou[1]"
   ]
  },
  {
   "cell_type": "code",
   "execution_count": 94,
   "metadata": {
    "collapsed": false
   },
   "outputs": [
    {
     "data": {
      "text/plain": [
       "('Jane', 12, 'NewYork')"
      ]
     },
     "execution_count": 94,
     "metadata": {},
     "output_type": "execute_result"
    }
   ],
   "source": [
    "cls = gongyou.__class__\n",
    "jane = cls('Jane', 12, 'NewYork')\n",
    "jane.name, jane.age, jane.region"
   ]
  },
  {
   "cell_type": "code",
   "execution_count": null,
   "metadata": {
    "collapsed": true
   },
   "outputs": [],
   "source": []
  },
  {
   "cell_type": "markdown",
   "metadata": {},
   "source": [
    "### 멤버함수, 클래스함수, 스태틱함수"
   ]
  },
  {
   "cell_type": "code",
   "execution_count": 23,
   "metadata": {
    "collapsed": true
   },
   "outputs": [],
   "source": [
    "class MyClass:\n",
    "    def f1(self):\n",
    "        print('f1, self :', self)\n",
    "\n",
    "    @classmethod\n",
    "    def f2(cls):\n",
    "        print('f2, cls :', cls)\n",
    "\n",
    "    @staticmethod\n",
    "    def f3():\n",
    "        print('f3')"
   ]
  },
  {
   "cell_type": "code",
   "execution_count": 24,
   "metadata": {
    "collapsed": false
   },
   "outputs": [
    {
     "name": "stdout",
     "output_type": "stream",
     "text": [
      "f1, self : <__main__.MyClass object at 0x106c250b8>\n"
     ]
    }
   ],
   "source": [
    "MyClass().f1()"
   ]
  },
  {
   "cell_type": "code",
   "execution_count": 25,
   "metadata": {
    "collapsed": false
   },
   "outputs": [
    {
     "name": "stdout",
     "output_type": "stream",
     "text": [
      "f2, cls : <class '__main__.MyClass'>\n"
     ]
    }
   ],
   "source": [
    "MyClass.f2()"
   ]
  },
  {
   "cell_type": "code",
   "execution_count": 26,
   "metadata": {
    "collapsed": false
   },
   "outputs": [
    {
     "name": "stdout",
     "output_type": "stream",
     "text": [
      "f3\n"
     ]
    }
   ],
   "source": [
    "MyClass.f3()"
   ]
  },
  {
   "cell_type": "markdown",
   "metadata": {},
   "source": [
    "## 클래스 변수와 헷갈리지말아요."
   ]
  },
  {
   "cell_type": "code",
   "execution_count": 107,
   "metadata": {
    "collapsed": true
   },
   "outputs": [],
   "source": [
    "class Person:\n",
    "#     name = None\n",
    "#     age = None\n",
    "#     region = None\n",
    "#     region_list = []\n",
    "\n",
    "    def __init__(self, name, age, region):\n",
    "        self.name = name\n",
    "        self.age = age\n",
    "        self.region = region\n",
    "        self.region_list = []\n",
    "        self.region_list.append(self.region)\n",
    "\n",
    "    def move_to(self, region):\n",
    "        self.region = region\n",
    "        self.region_list.append(region)"
   ]
  },
  {
   "cell_type": "code",
   "execution_count": 108,
   "metadata": {
    "collapsed": false
   },
   "outputs": [
    {
     "data": {
      "text/plain": [
       "['Seoul', 'Pusan', 'Inchoen']"
      ]
     },
     "execution_count": 108,
     "metadata": {},
     "output_type": "execute_result"
    }
   ],
   "source": [
    "tom = Person('Tom', 10, 'Seoul')\n",
    "tom.move_to('Pusan')\n",
    "tom.move_to('Inchoen')\n",
    "tom.region_list"
   ]
  },
  {
   "cell_type": "code",
   "execution_count": 109,
   "metadata": {
    "collapsed": false
   },
   "outputs": [
    {
     "data": {
      "text/plain": [
       "['도깨비나라', 'Canada']"
      ]
     },
     "execution_count": 109,
     "metadata": {},
     "output_type": "execute_result"
    }
   ],
   "source": [
    "gongyou = Person('공유', 37, '도깨비나라')\n",
    "gongyou.move_to('Canada')\n",
    "gongyou.region_list"
   ]
  },
  {
   "cell_type": "markdown",
   "metadata": {},
   "source": [
    "## Name Mangling"
   ]
  },
  {
   "cell_type": "code",
   "execution_count": 113,
   "metadata": {
    "collapsed": true
   },
   "outputs": [],
   "source": [
    "class Programming:\n",
    "    def __init__(self, name, skill):\n",
    "        self.name = name\n",
    "        self.__skill = skill\n",
    "    \n",
    "    def say_hello(self):\n",
    "        print('안녕. {}이고, {} 기술을 가지고 있어.'.format(self.name, self.__skill))"
   ]
  },
  {
   "cell_type": "code",
   "execution_count": 114,
   "metadata": {
    "collapsed": false
   },
   "outputs": [
    {
     "name": "stdout",
     "output_type": "stream",
     "text": [
      "안녕. Tom이고, Python 기술을 가지고 있어.\n"
     ]
    }
   ],
   "source": [
    "prog1 = Programming('Tom', 'Python')\n",
    "prog1.say_hello()"
   ]
  },
  {
   "cell_type": "code",
   "execution_count": 118,
   "metadata": {
    "collapsed": false
   },
   "outputs": [
    {
     "data": {
      "text/plain": [
       "('Tom', 'Python')"
      ]
     },
     "execution_count": 118,
     "metadata": {},
     "output_type": "execute_result"
    }
   ],
   "source": [
    "prog1.name, prog1._Programming__skill  # prog1.__skill"
   ]
  },
  {
   "cell_type": "code",
   "execution_count": null,
   "metadata": {
    "collapsed": false
   },
   "outputs": [],
   "source": [
    "dir(prog1)"
   ]
  },
  {
   "cell_type": "markdown",
   "metadata": {},
   "source": [
    "## 장식자"
   ]
  },
  {
   "cell_type": "code",
   "execution_count": 119,
   "metadata": {
    "collapsed": true
   },
   "outputs": [],
   "source": [
    "def mysum(x, y):\n",
    "    return x + y"
   ]
  },
  {
   "cell_type": "code",
   "execution_count": 120,
   "metadata": {
    "collapsed": true
   },
   "outputs": [],
   "source": [
    "def mybase(fn):\n",
    "    wrap = lambda x, y: fn(x, y) + 10\n",
    "    return wrap"
   ]
  },
  {
   "cell_type": "code",
   "execution_count": 123,
   "metadata": {
    "collapsed": false
   },
   "outputs": [
    {
     "data": {
      "text/plain": [
       "13"
      ]
     },
     "execution_count": 123,
     "metadata": {},
     "output_type": "execute_result"
    }
   ],
   "source": [
    "mybase(mysum)(1, 2)"
   ]
  },
  {
   "cell_type": "code",
   "execution_count": 124,
   "metadata": {
    "collapsed": false
   },
   "outputs": [
    {
     "data": {
      "text/plain": [
       "3"
      ]
     },
     "execution_count": 124,
     "metadata": {},
     "output_type": "execute_result"
    }
   ],
   "source": [
    "mysum(1, 2)"
   ]
  },
  {
   "cell_type": "code",
   "execution_count": 125,
   "metadata": {
    "collapsed": true
   },
   "outputs": [],
   "source": [
    "mysum = mybase(mysum)"
   ]
  },
  {
   "cell_type": "code",
   "execution_count": 126,
   "metadata": {
    "collapsed": false
   },
   "outputs": [
    {
     "data": {
      "text/plain": [
       "13"
      ]
     },
     "execution_count": 126,
     "metadata": {},
     "output_type": "execute_result"
    }
   ],
   "source": [
    "mysum(1, 2)"
   ]
  },
  {
   "cell_type": "markdown",
   "metadata": {},
   "source": [
    "### 장식자, 정식문법"
   ]
  },
  {
   "cell_type": "code",
   "execution_count": 129,
   "metadata": {
    "collapsed": true
   },
   "outputs": [],
   "source": [
    "def mybase2(fn):\n",
    "    def wrap(x, y):\n",
    "        return fn(x, y) + 10\n",
    "    return wrap\n",
    "\n",
    "@mybase2\n",
    "def mysum2(x, y):\n",
    "    return x + y\n",
    "# mysum2 = mybase2(mysum2)"
   ]
  },
  {
   "cell_type": "code",
   "execution_count": 130,
   "metadata": {
    "collapsed": false
   },
   "outputs": [
    {
     "data": {
      "text/plain": [
       "13"
      ]
     },
     "execution_count": 130,
     "metadata": {},
     "output_type": "execute_result"
    }
   ],
   "source": [
    "mysum2(1, 2)"
   ]
  },
  {
   "cell_type": "markdown",
   "metadata": {},
   "source": [
    "### memoize 패턴"
   ]
  },
  {
   "cell_type": "code",
   "execution_count": 144,
   "metadata": {
    "collapsed": true
   },
   "outputs": [],
   "source": [
    "import time\n",
    "\n",
    "result1 = {}\n",
    "result2 = {}\n",
    "\n",
    "def long_mysum(x, y):\n",
    "    key = (x, y)\n",
    "    if key not in result1:\n",
    "        time.sleep(1)\n",
    "        result1[key] = x + y\n",
    "    return result1[key]\n",
    "\n",
    "def long_mymultiply(x, y):\n",
    "    key = (x, y)\n",
    "    if key not in result2:\n",
    "        time.sleep(1)\n",
    "        result2[key] = x * y\n",
    "    return result2[key]"
   ]
  },
  {
   "cell_type": "code",
   "execution_count": 145,
   "metadata": {
    "collapsed": false
   },
   "outputs": [
    {
     "name": "stdout",
     "output_type": "stream",
     "text": [
      "3\n",
      "3\n",
      "3\n",
      "4\n",
      "2\n",
      "2\n"
     ]
    }
   ],
   "source": [
    "print(long_mysum(1, 2))\n",
    "print(long_mysum(1, 2))\n",
    "print(long_mysum(1, 2))\n",
    "print(long_mysum(1, 3))\n",
    "\n",
    "print(long_mymultiply(1, 2))\n",
    "print(long_mymultiply(1, 2))"
   ]
  },
  {
   "cell_type": "code",
   "execution_count": 146,
   "metadata": {
    "collapsed": true
   },
   "outputs": [],
   "source": [
    "# 장식자를 통한 깔끔한 해결\n",
    "import time\n",
    "\n",
    "def memoize(fn):\n",
    "    result = {}\n",
    "    def wrap(x, y):\n",
    "        key = (x, y)\n",
    "        if key not in result:\n",
    "            result[key] = fn(x, y)\n",
    "        return result[key]\n",
    "    return wrap\n",
    "\n",
    "@memoize\n",
    "def long_mysum2(x, y):\n",
    "    time.sleep(1)\n",
    "    return x + y\n",
    "\n",
    "@memoize\n",
    "def long_mymultiply2(x, y):\n",
    "    time.sleep(1)\n",
    "    return x * y"
   ]
  },
  {
   "cell_type": "code",
   "execution_count": 147,
   "metadata": {
    "collapsed": false
   },
   "outputs": [
    {
     "name": "stdout",
     "output_type": "stream",
     "text": [
      "3\n",
      "3\n",
      "3\n",
      "4\n",
      "2\n",
      "2\n"
     ]
    }
   ],
   "source": [
    "print(long_mysum2(1, 2))\n",
    "print(long_mysum2(1, 2))\n",
    "print(long_mysum2(1, 2))\n",
    "print(long_mysum2(1, 3))\n",
    "\n",
    "print(long_mymultiply2(1, 2))\n",
    "print(long_mymultiply2(1, 2))"
   ]
  },
  {
   "cell_type": "code",
   "execution_count": 153,
   "metadata": {
    "collapsed": false
   },
   "outputs": [
    {
     "name": "stdout",
     "output_type": "stream",
     "text": [
      "33\n"
     ]
    }
   ],
   "source": [
    "def base(base_i):\n",
    "    def wrap(fn):\n",
    "        def inner(x, y):\n",
    "            return fn(x, y) + base_i\n",
    "        return inner\n",
    "    return wrap\n",
    "\n",
    "base_30 = base(30)\n",
    "\n",
    "@base_30\n",
    "def mysum3(x, y):\n",
    "    return x + y\n",
    "\n",
    "print(mysum3(1, 2))  # 13"
   ]
  },
  {
   "cell_type": "markdown",
   "metadata": {},
   "source": [
    "## property 장식자"
   ]
  },
  {
   "cell_type": "code",
   "execution_count": 177,
   "metadata": {
    "collapsed": true
   },
   "outputs": [],
   "source": [
    "import datetime\n",
    "\n",
    "class Person:\n",
    "    def __init__(self, name, birth):\n",
    "        self.name = name\n",
    "        self.birth = birth\n",
    "    \n",
    "    @property\n",
    "    def age(self):\n",
    "        return datetime.datetime.now().year - self.birth\n",
    "    # age = property(age)\n",
    "    \n",
    "    @age.setter\n",
    "    def age(self, value):\n",
    "        self.birth = datetime.datetime.now().year - value"
   ]
  },
  {
   "cell_type": "code",
   "execution_count": 178,
   "metadata": {
    "collapsed": true
   },
   "outputs": [],
   "source": [
    "gongyou = Person('공유', 1981)"
   ]
  },
  {
   "cell_type": "code",
   "execution_count": 179,
   "metadata": {
    "collapsed": false
   },
   "outputs": [
    {
     "data": {
      "text/plain": [
       "('공유', 1981, 36, 36)"
      ]
     },
     "execution_count": 179,
     "metadata": {},
     "output_type": "execute_result"
    }
   ],
   "source": [
    "gongyou.name, gongyou.birth, gongyou.age, gongyou.age"
   ]
  },
  {
   "cell_type": "code",
   "execution_count": 180,
   "metadata": {
    "collapsed": true
   },
   "outputs": [],
   "source": [
    "gongyou.age = 30"
   ]
  },
  {
   "cell_type": "code",
   "execution_count": 181,
   "metadata": {
    "collapsed": false
   },
   "outputs": [
    {
     "data": {
      "text/plain": [
       "1987"
      ]
     },
     "execution_count": 181,
     "metadata": {},
     "output_type": "execute_result"
    }
   ],
   "source": [
    "gongyou.birth"
   ]
  },
  {
   "cell_type": "markdown",
   "metadata": {},
   "source": [
    "## MRO"
   ]
  },
  {
   "cell_type": "code",
   "execution_count": 206,
   "metadata": {
    "collapsed": true
   },
   "outputs": [],
   "source": [
    "class A:\n",
    "    def run(self):\n",
    "        print('A : run()')"
   ]
  },
  {
   "cell_type": "code",
   "execution_count": 207,
   "metadata": {
    "collapsed": true
   },
   "outputs": [],
   "source": [
    "class B(A):\n",
    "    def run(self):\n",
    "        super().run()\n",
    "        print('B : run()')"
   ]
  },
  {
   "cell_type": "code",
   "execution_count": 208,
   "metadata": {
    "collapsed": true
   },
   "outputs": [],
   "source": [
    "class C(A):\n",
    "    def run(self):\n",
    "        super().run()\n",
    "        print('C : run()')"
   ]
  },
  {
   "cell_type": "code",
   "execution_count": 209,
   "metadata": {
    "collapsed": true
   },
   "outputs": [],
   "source": [
    "class D(B, C):\n",
    "    def run(self):\n",
    "        super().run()\n",
    "        print('D : run()')"
   ]
  },
  {
   "cell_type": "code",
   "execution_count": 216,
   "metadata": {
    "collapsed": true
   },
   "outputs": [],
   "source": [
    "class E(C, B):\n",
    "    def run(self):\n",
    "        super(E, self).run()\n",
    "        # super().run()\n",
    "        print('E : run()')"
   ]
  },
  {
   "cell_type": "code",
   "execution_count": 218,
   "metadata": {
    "collapsed": false
   },
   "outputs": [
    {
     "name": "stdout",
     "output_type": "stream",
     "text": [
      "A : run()\n",
      "B : run()\n",
      "C : run()\n",
      "E : run()\n"
     ]
    }
   ],
   "source": [
    "E().run()"
   ]
  },
  {
   "cell_type": "code",
   "execution_count": 219,
   "metadata": {
    "collapsed": false
   },
   "outputs": [
    {
     "data": {
      "text/plain": [
       "(__main__.E, __main__.C, __main__.B, __main__.A, object)"
      ]
     },
     "execution_count": 219,
     "metadata": {},
     "output_type": "execute_result"
    }
   ],
   "source": [
    "E.__mro__"
   ]
  },
  {
   "cell_type": "code",
   "execution_count": 205,
   "metadata": {
    "collapsed": false
   },
   "outputs": [
    {
     "ename": "TypeError",
     "evalue": "Cannot create a consistent method resolution\norder (MRO) for bases B, C",
     "output_type": "error",
     "traceback": [
      "\u001b[0;31m---------------------------------------------------------------------------\u001b[0m",
      "\u001b[0;31mTypeError\u001b[0m                                 Traceback (most recent call last)",
      "\u001b[0;32m<ipython-input-205-ac148e9f3b7f>\u001b[0m in \u001b[0;36m<module>\u001b[0;34m()\u001b[0m\n\u001b[0;32m----> 1\u001b[0;31m \u001b[0;32mclass\u001b[0m \u001b[0mF\u001b[0m\u001b[0;34m(\u001b[0m\u001b[0mD\u001b[0m\u001b[0;34m,\u001b[0m \u001b[0mE\u001b[0m\u001b[0;34m)\u001b[0m\u001b[0;34m:\u001b[0m \u001b[0;32mpass\u001b[0m\u001b[0;34m\u001b[0m\u001b[0m\n\u001b[0m",
      "\u001b[0;31mTypeError\u001b[0m: Cannot create a consistent method resolution\norder (MRO) for bases B, C"
     ]
    }
   ],
   "source": [
    "class F(D, E): pass"
   ]
  },
  {
   "cell_type": "code",
   "execution_count": 188,
   "metadata": {
    "collapsed": false
   },
   "outputs": [
    {
     "data": {
      "text/plain": [
       "(__main__.E, __main__.C, __main__.B, __main__.A, object)"
      ]
     },
     "execution_count": 188,
     "metadata": {},
     "output_type": "execute_result"
    }
   ],
   "source": [
    "E.__mro__"
   ]
  },
  {
   "cell_type": "code",
   "execution_count": null,
   "metadata": {
    "collapsed": true
   },
   "outputs": [],
   "source": []
  }
 ],
 "metadata": {
  "anaconda-cloud": {},
  "kernelspec": {
   "display_name": "Python [default]",
   "language": "python",
   "name": "python3"
  },
  "language_info": {
   "codemirror_mode": {
    "name": "ipython",
    "version": 3
   },
   "file_extension": ".py",
   "mimetype": "text/x-python",
   "name": "python",
   "nbconvert_exporter": "python",
   "pygments_lexer": "ipython3",
   "version": "3.5.2"
  }
 },
 "nbformat": 4,
 "nbformat_minor": 1
}
