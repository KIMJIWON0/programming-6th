{
 "cells": [
  {
   "cell_type": "markdown",
   "metadata": {},
   "source": [
    "피로그래밍 첫 시간 과제\n",
    "1. 예제 코드들 하나씩 실행해보기\n",
    "2. 파이썬 스타일 가이드 요약해보기"
   ]
  },
  {
   "cell_type": "markdown",
   "metadata": {},
   "source": [
    "변수설정\n",
    "\"=\"  오른쪽에 있는 값을 인쪽에 할당한다\n",
    "변수를 쓰고 할당하는 값을 써주면 그 즉시 변수가 선언이 되고 값도 할당 된다."
   ]
  },
  {
   "cell_type": "code",
   "execution_count": 2,
   "metadata": {
    "collapsed": false
   },
   "outputs": [
    {
     "name": "stdout",
     "output_type": "stream",
     "text": [
      "안녕 파이썬 열심히 해보자 나는 김선홍이야.\n"
     ]
    }
   ],
   "source": [
    "name = \"안녕 파이썬 열심히 해보자 나는 김선홍이야.\"\n",
    "print(name)"
   ]
  },
  {
   "cell_type": "markdown",
   "metadata": {
    "collapsed": true
   },
   "source": [
    "숫자를 표현하는 데이터 타입\n",
    "int 타입 : 정수형 데이터 타입\n",
    "float 타입 : 실수형 데이터 타입\n",
    "사칙역산 (+, -, *, /), 몫 (//), 나머지 (%), 지수 승 (**) 을 지원"
   ]
  },
  {
   "cell_type": "markdown",
   "metadata": {},
   "source": [
    "참/거짓을 표현하는 데이터 타입 (Boolean Type)\n",
    "참은 True로 표현하고, 거짓은 False로 표현 비교 연산장서는 논리형 값으로 계산\n",
    "<, <=, >, >= : 대소 비교\n",
    "==, != : 같음/같지않음을 비교\n",
    "is, is not : 참조가 같음/같지않음을 비교\n",
    "논리 연산자\n",
    "x or y 예시 : (10 < 3) or True\n",
    "x and y 예시 : (10 > 3) and False not x 예시 : not (10 < 3)"
   ]
  },
  {
   "cell_type": "markdown",
   "metadata": {},
   "source": [
    "문자열 데이터타입:\n",
    "문자열을 '' 또는  \"\" 이렇게 감싸줌\n",
    "ESCAPE 같은 경우 'I\\'m SeonHong' 와 같이 ' 앞에 \\를 쓰면 된다."
   ]
  },
  {
   "cell_type": "markdown",
   "metadata": {},
   "source": [
    "문자열 형식 지정자"
   ]
  },
  {
   "cell_type": "code",
   "execution_count": 7,
   "metadata": {
    "collapsed": false
   },
   "outputs": [
    {
     "data": {
      "text/plain": [
       "'김선홍과 한예슬,과거의 연애,성공적'"
      ]
     },
     "execution_count": 7,
     "metadata": {},
     "output_type": "execute_result"
    }
   ],
   "source": [
    "'{},{},{}'.format('김선홍과 한예슬','과거의 연애','성공적')"
   ]
  },
  {
   "cell_type": "markdown",
   "metadata": {},
   "source": [
    "기본 자료 구조 (List, Tuple, Set, Dict)"
   ]
  },
  {
   "cell_type": "markdown",
   "metadata": {},
   "source": [
    "List 공식문서 정리 \n",
    "\n",
    "list.append(x) -> 리스트에 요소 추가\n",
    "\n",
    "list.extend(L) -> 리스트에 리스트를 더함.\n",
    "\n",
    "list.insert(i, x) -> i번째에 x라는 리스트를 삽입\n",
    "\n",
    "list.pop([i]) -> 마지막에 있는 리스트 i를 끄집어 내고 원래의 리스트에서 그 i는 삭제\n",
    "\n",
    "list.clear() -> 리스트를 비워라!\n",
    "\n",
    "list.index(x[, start[, end]])\n",
    "Return zero-based index in the list of the first item whose value is x. Raises a ValueError if there is no such item.\n",
    "\n",
    "The optional arguments start and end are interpreted as in the slice notation and are used to limit the search to a particular subsequence of x. The returned index is computed relative to the beginning of the full sequence rather than the start argument.\n",
    "\n",
    "list.count(x)\n",
    "x의 위치 세라!\n",
    "\n",
    "list.sort(key=None, reverse=False)\n",
    "리스트 요소를 순서대로 정렬해준다.\n",
    "\n",
    "list.reverse()\n",
    "리스트의 값을 반대로!\n",
    "\n",
    "list.copy()\n",
    "리스트 복사!\n",
    "\n"
   ]
  },
  {
   "cell_type": "code",
   "execution_count": 14,
   "metadata": {
    "collapsed": false
   },
   "outputs": [
    {
     "name": "stdout",
     "output_type": "stream",
     "text": [
      "1\n",
      "2\n",
      "4\n",
      "3\n",
      "4\n",
      "1\n",
      "2\n",
      "3\n",
      "4\n"
     ]
    }
   ],
   "source": [
    "numbers = [1, 2, 3, 4] \n",
    "print(numbers[0]) \n",
    "print(numbers[1])\n",
    "print(numbers[-1]) \n",
    "print(numbers[-2]) \n",
    "print(len(numbers)) \n",
    "for i in numbers:\n",
    "    print(i)"
   ]
  },
  {
   "cell_type": "code",
   "execution_count": 34,
   "metadata": {
    "collapsed": false
   },
   "outputs": [
    {
     "name": "stdout",
     "output_type": "stream",
     "text": [
      "[1, 2, 3, 5, 11]\n"
     ]
    }
   ],
   "source": [
    "numbers = [1, 2, 3, 4, 5]\n",
    "\n",
    "numbers.append(5) \n",
    "numbers.pop(5) \n",
    "numbers.remove(4) \n",
    "numbers.insert(10, 11)\n",
    "print(numbers)"
   ]
  },
  {
   "cell_type": "code",
   "execution_count": 37,
   "metadata": {
    "collapsed": false
   },
   "outputs": [
    {
     "name": "stdout",
     "output_type": "stream",
     "text": [
      "[4, 6, 8, 10]\n",
      "[4, 6]\n",
      "[4]\n"
     ]
    }
   ],
   "source": [
    "numbers = [2, 4, 6, 8, 10]\n",
    "print(numbers[1:]) \n",
    "print(numbers[1:3]) \n",
    "print(numbers[1:3:2])"
   ]
  },
  {
   "cell_type": "code",
   "execution_count": 43,
   "metadata": {
    "collapsed": false
   },
   "outputs": [
    {
     "name": "stdout",
     "output_type": "stream",
     "text": [
      "['김선홍', '한지연', '윤현규', '정희탁', '한예슬', '코딩몬', '코딩왕', '황지영']\n"
     ]
    }
   ],
   "source": [
    "numbers1 = [\"김선홍\", \"한지연\", \"윤현규\", \"정희탁\"] \n",
    "numbers2 = [\"한예슬\",\"코딩몬\", \"코딩왕\", \"황지영\"] \n",
    "print(numbers1 + numbers2)"
   ]
  },
  {
   "cell_type": "code",
   "execution_count": 40,
   "metadata": {
    "collapsed": false
   },
   "outputs": [
    {
     "name": "stdout",
     "output_type": "stream",
     "text": [
      "[3, 7, 11, 15]\n"
     ]
    }
   ],
   "source": [
    "numbers1 = [1, 3, 5, 7]\n",
    "numbers2 = [2, 4, 6, 8]\n",
    "print([i + j for (i, j) in zip(numbers1, numbers2)])\n",
    "#for () in zip () 이거 처음 봄 ㅎㅎ"
   ]
  },
  {
   "cell_type": "code",
   "execution_count": 41,
   "metadata": {
    "collapsed": false
   },
   "outputs": [
    {
     "ename": "TypeError",
     "evalue": "'tuple' object does not support item assignment",
     "output_type": "error",
     "traceback": [
      "\u001b[0;31m---------------------------------------------------------------------------\u001b[0m",
      "\u001b[0;31mTypeError\u001b[0m                                 Traceback (most recent call last)",
      "\u001b[0;32m<ipython-input-41-d6d52f297d2c>\u001b[0m in \u001b[0;36m<module>\u001b[0;34m()\u001b[0m\n\u001b[1;32m      1\u001b[0m \u001b[0mnumbers\u001b[0m \u001b[0;34m=\u001b[0m \u001b[0;34m(\u001b[0m\u001b[0;36m1\u001b[0m\u001b[0;34m,\u001b[0m \u001b[0;36m3\u001b[0m\u001b[0;34m,\u001b[0m \u001b[0;36m5\u001b[0m\u001b[0;34m,\u001b[0m \u001b[0;36m7\u001b[0m\u001b[0;34m,\u001b[0m \u001b[0;36m5\u001b[0m\u001b[0;34m)\u001b[0m\u001b[0;34m\u001b[0m\u001b[0m\n\u001b[0;32m----> 2\u001b[0;31m \u001b[0mnumbers\u001b[0m\u001b[0;34m[\u001b[0m\u001b[0;36m0\u001b[0m\u001b[0;34m]\u001b[0m \u001b[0;34m=\u001b[0m \u001b[0;36m10\u001b[0m\u001b[0;34m\u001b[0m\u001b[0m\n\u001b[0m",
      "\u001b[0;31mTypeError\u001b[0m: 'tuple' object does not support item assignment"
     ]
    }
   ],
   "source": [
    "numbers = (1, 3, 5, 7, 5)\n",
    "numbers[0] = 10"
   ]
  },
  {
   "cell_type": "markdown",
   "metadata": {},
   "source": [
    "소괄호는 때에 따라, 우선순위 연산자 혹은 튜플로 쓰인다.\n",
    "number1 = (1 + 3) # 우선순위 >>> number2 = (1 + 3,) # 튜플\n",
    "number3 = (3) # 우선순위 >>> number4 = (3,) # 튜플\n",
    "Packing / Unpacking\n",
    "numbers = (1, 2, 3) # packing >>> v1, v2, v3 = numbers # unpacking"
   ]
  },
  {
   "cell_type": "code",
   "execution_count": 55,
   "metadata": {
    "collapsed": false
   },
   "outputs": [
    {
     "name": "stdout",
     "output_type": "stream",
     "text": [
      "{'황지영', '윤현규', '한지연', '정희탁'}\n",
      "{'한예슬', '한지연', '황지영', '플라톤', '소크라테스', '김정은', '수지', '아이유', '김선홍', '정희탁', '윤현규'}\n",
      "{'플라톤', '김선홍'}\n",
      "{'윤현규', '한지연', '소크라테스', '김정은', '수지', '아이유', '황지영', '정희탁', '한예슬'}\n"
     ]
    }
   ],
   "source": [
    "set_numbers1 = { \"김선홍\", \"황지영\", \"정희탁\", \"윤현규\", \"한지연\",\"플라톤\" }\n",
    "set_numbers2 = { \"한예슬\", \"김선홍\", \"수지\", \"아이유\", \"김정은\", \"소크라테스\", \"플라톤\"} \n",
    "print(set_numbers1 - set_numbers2) \n",
    "print(set_numbers1 | set_numbers2)\n",
    "print(set_numbers1 & set_numbers2) \n",
    "print(set_numbers1 ^ set_numbers2)"
   ]
  },
  {
   "cell_type": "code",
   "execution_count": 59,
   "metadata": {
    "collapsed": false
   },
   "outputs": [
    {
     "name": "stdout",
     "output_type": "stream",
     "text": [
      "37\n"
     ]
    }
   ],
   "source": [
    "dict_values = { '한예슬': 37, '김선홍': 23, '첫사랑': 100 }\n",
    "print(dict_values['한예슬'])"
   ]
  },
  {
   "cell_type": "code",
   "execution_count": 68,
   "metadata": {
    "collapsed": false
   },
   "outputs": [
    {
     "name": "stdout",
     "output_type": "stream",
     "text": [
      "윤현규 26\n",
      "황지영 27\n",
      "김선홍 23\n",
      "정희탁 25\n",
      "한지연 22\n"
     ]
    }
   ],
   "source": [
    "dict_members = { '윤현규': 26, '황지영': 27, '김선홍': 23, '정희탁': 25, '한지연':22 }\n",
    "for (name, age) in dict_members.items(): #.items 에 주의하자!\n",
    "    print(name, age)"
   ]
  },
  {
   "cell_type": "markdown",
   "metadata": {},
   "source": [
    "파이썬 스타일 가이드 요약\n",
    "\n",
    "코딩 컨벤션이란\n",
    "\n",
    "프로그램 코드를 작성할 때 사용되는 일종의 기준입니다.\n",
    "\n",
    "더 쉽게 말하면 실행 결과에 별 차이가 없는 선택지들에 대한 통일적인 기준을 제시한 거라고 볼 수 있다. \n",
    "\n",
    "결과에도 영향을 주지 않는 걸 뭐하러 통일시킬 필요가 있을까?\n",
    "\n",
    "코딩에 대한 가독성을 높이기 위해서다.\n",
    "\n",
    "PEP이란\n",
    "\n",
    "Python Enhance Proposal이란 이름대로 파이썬을 개선하기 위한 제안서를 뜻한다.\n",
    "\n",
    "시작하기에 앞서서 예외 2가지를 두고 있다. 규칙을 적용한 코드가 다른 사람 눈에도 읽기 어려운 경우, 일관성을 지키려고 한 수정이 규칙을 어기는 이유. 이 2가지 경우에는 예외를 인정한다.\n",
    "\n",
    "-코드 들여쓰기\n",
    "4개의 공백을 들여쓰기 단위로 사용하라.\n",
    "\n",
    "절대 탭과 공백 문자를 섞어 쓰지 마라.\n",
    "\n",
    "한 행에는 최대 79글자까지만 넣도록 하라.\n",
    "\n",
    "- 빈 줄\n",
    "최상위 수준 함수와 클래스 정의는 두 줄을 띄워서 구분한다.\n",
    "\n",
    "클래스의 메서드 정의는 한 줄을 띄워서 구분한다.\n",
    "\n",
    "\n",
    "- 파이썬 3.0 이상 버전에서는 UTF-8을 권장한다.\n",
    "\n",
    "- 임포트 보통 행으로 구분되어야 한다.\n",
    "\n",
    "- 임포트 구분은 다음 순서에 따라 그룹별로 기술한다. 1.표준 라이브러리 2 관련이 있는 서드파티 라이브러리 3. 로컬 어플리케이션/자체 라이브러리\n",
    "\n",
    "너무 많아서 이하 생략\n",
    "\n"
   ]
  },
  {
   "cell_type": "code",
   "execution_count": 70,
   "metadata": {
    "collapsed": false
   },
   "outputs": [
    {
     "name": "stdout",
     "output_type": "stream",
     "text": [
      "1\n",
      "2\n",
      "3\n",
      "4\n",
      "5\n",
      "\n",
      "25\n",
      "36\n",
      "49\n",
      "64\n",
      "81\n",
      "100\n",
      "121\n",
      "\n",
      "100\n",
      "121\n",
      "144\n",
      "\n",
      "100\n",
      "400\n",
      "900\n"
     ]
    }
   ],
   "source": [
    "for i in range(1, 6): \n",
    "    print(i)\n",
    "print()\n",
    "for i in range(5, 12):\n",
    "    print(i * i) \n",
    "print()\n",
    "for i in range(10, 13): \n",
    "    print(i ** 2)\n",
    "print()\n",
    "for i in [10, 20, 30]:\n",
    "    print(i ** 2)"
   ]
  },
  {
   "cell_type": "code",
   "execution_count": 78,
   "metadata": {
    "collapsed": false
   },
   "outputs": [
    {
     "name": "stdout",
     "output_type": "stream",
     "text": [
      "1\n",
      "2\n",
      "3\n",
      "4\n",
      "5\n",
      "\n",
      "4\n",
      "9\n",
      "16\n",
      "25\n",
      "36\n",
      "\n",
      "9\n",
      "16\n",
      "25\n",
      "36\n",
      "49\n"
     ]
    }
   ],
   "source": [
    "i = 1\n",
    "while i < 6:\n",
    "    print(i) \n",
    "    i += 1\n",
    "print()\n",
    "\n",
    "i = 2\n",
    "while i < 7:\n",
    "    print(i * i)\n",
    "    i += 1\n",
    "print()\n",
    "\n",
    "i = 3\n",
    "while i < 8:\n",
    "    print(i ** 2)\n",
    "    i += 1"
   ]
  },
  {
   "cell_type": "code",
   "execution_count": null,
   "metadata": {
    "collapsed": true
   },
   "outputs": [],
   "source": [
    "i = 10\n",
    "while i < 13:\n",
    "print(i) \n",
    "i -= 1"
   ]
  }
 ],
 "metadata": {
  "kernelspec": {
   "display_name": "Python 3",
   "language": "python",
   "name": "python3"
  },
  "language_info": {
   "codemirror_mode": {
    "name": "ipython",
    "version": 3
   },
   "file_extension": ".py",
   "mimetype": "text/x-python",
   "name": "python",
   "nbconvert_exporter": "python",
   "pygments_lexer": "ipython3",
   "version": "3.6.0"
  }
 },
 "nbformat": 4,
 "nbformat_minor": 2
}
