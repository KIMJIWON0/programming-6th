{
 "cells": [
  {
   "cell_type": "markdown",
   "metadata": {},
   "source": [
    "# List(2)"
   ]
  },
  {
   "cell_type": "code",
   "execution_count": 1,
   "metadata": {
    "collapsed": false
   },
   "outputs": [
    {
     "name": "stdout",
     "output_type": "stream",
     "text": [
      "1\n",
      "3\n",
      "5\n",
      "7\n",
      "4\n",
      "1\n",
      "3\n",
      "5\n",
      "7\n"
     ]
    }
   ],
   "source": [
    "numbers = [1,3,5,7]\n",
    "print(numbers[0])\n",
    "print(numbers[1])\n",
    "print(numbers[2])\n",
    "print(numbers[3])\n",
    "print(len(numbers))\n",
    "for i in numbers :\n",
    "    print(i)"
   ]
  },
  {
   "cell_type": "code",
   "execution_count": 2,
   "metadata": {
    "collapsed": false
   },
   "outputs": [],
   "source": [
    "\"\"\"데이터 변경\"\"\"\n",
    "\n",
    "numbers = [1,3,5,7]\n",
    "numbers[0] = 10\n",
    "numbers.append(9)\n",
    "numbers.pop(3)       #특정 색인값을 가져옴과 동시에 제거\n",
    "numbers.remove(5)\n",
    "numbers.insert(1,11) #특정 위치에 값을 추가"
   ]
  },
  {
   "cell_type": "markdown",
   "metadata": {
    "collapsed": true
   },
   "source": [
    "## List(3)"
   ]
  },
  {
   "cell_type": "code",
   "execution_count": 9,
   "metadata": {
    "collapsed": false
   },
   "outputs": [
    {
     "name": "stdout",
     "output_type": "stream",
     "text": [
      "[3, 5, 7, 5]\n",
      "[3, 5]\n",
      "[3]\n",
      "[1, 3, 5, 7, 2, 4, 6, 8]\n",
      "[3, 7, 11, 15]\n"
     ]
    }
   ],
   "source": [
    "\"\"\"데이터 변경\"\"\"\n",
    "\n",
    "numbers = [1,3,5,7,5]\n",
    "numbers[0] = 10\n",
    "numbers.append(9)\n",
    "numbers.pop(3)\n",
    "numbers.remove(5)\n",
    "numbers.insert(1,11)\n",
    "\n",
    "\n",
    "\"\"\"값을 잘라내기 (Slice) Syntax\"\"\"\n",
    "numbers = [1,3,5,7,5]\n",
    "print(numbers[1:])\n",
    "print(numbers[1:3])\n",
    "print(numbers[1:3:2]) #유형3) 리스트[시작인덱스:끝인덱스:인덱스증가량]\n",
    "## 인덱스 증가량?\n",
    "\n",
    "\"\"\"리스트 합치기\"\"\"\n",
    "numbers1 = [1,3,5,7]\n",
    "numbers2 = [2,4,6,8]\n",
    "print(numbers1 + numbers2)\n",
    "\n",
    "\"\"\"List Comprehension\"\"\"\n",
    "numbers1 = [1,3,5,7]\n",
    "numbers2 = [2,4,6,8]\n",
    "print([i+j for (i,j) in zip(numbers1, numbers2)])\n",
    "### 리스트 각 원소들의 합 ###"
   ]
  },
  {
   "cell_type": "markdown",
   "metadata": {},
   "source": [
    "# Tuple (1)"
   ]
  },
  {
   "cell_type": "code",
   "execution_count": 11,
   "metadata": {
    "collapsed": false
   },
   "outputs": [
    {
     "ename": "TypeError",
     "evalue": "'tuple' object does not support item assignment",
     "output_type": "error",
     "traceback": [
      "\u001b[0;31m---------------------------------------------------------------------------\u001b[0m",
      "\u001b[0;31mTypeError\u001b[0m                                 Traceback (most recent call last)",
      "\u001b[0;32m<ipython-input-11-660a73222230>\u001b[0m in \u001b[0;36m<module>\u001b[0;34m()\u001b[0m\n\u001b[1;32m      1\u001b[0m \u001b[0mnumbers\u001b[0m \u001b[0;34m=\u001b[0m \u001b[0;34m(\u001b[0m\u001b[0;36m1\u001b[0m\u001b[0;34m,\u001b[0m\u001b[0;36m3\u001b[0m\u001b[0;34m,\u001b[0m\u001b[0;36m5\u001b[0m\u001b[0;34m,\u001b[0m\u001b[0;36m7\u001b[0m\u001b[0;34m,\u001b[0m\u001b[0;36m5\u001b[0m\u001b[0;34m)\u001b[0m\u001b[0;34m\u001b[0m\u001b[0m\n\u001b[0;32m----> 2\u001b[0;31m \u001b[0mnumbers\u001b[0m\u001b[0;34m[\u001b[0m\u001b[0;36m0\u001b[0m\u001b[0;34m]\u001b[0m \u001b[0;34m=\u001b[0m \u001b[0;36m10\u001b[0m\u001b[0;34m\u001b[0m\u001b[0m\n\u001b[0m\u001b[1;32m      3\u001b[0m \u001b[0mnumbers\u001b[0m\u001b[0;34m.\u001b[0m\u001b[0mappend\u001b[0m\u001b[0;34m(\u001b[0m\u001b[0;36m9\u001b[0m\u001b[0;34m)\u001b[0m\u001b[0;34m\u001b[0m\u001b[0m\n",
      "\u001b[0;31mTypeError\u001b[0m: 'tuple' object does not support item assignment"
     ]
    }
   ],
   "source": [
    "numbers = (1,3,5,7,5)\n",
    "numbers[0] = 10\n",
    "numbers.append(9)\n",
    "### 리스트와 유사하지만 튜플은 값들 변경이 불가능 ###"
   ]
  },
  {
   "cell_type": "markdown",
   "metadata": {},
   "source": [
    "# Tuple (2)"
   ]
  },
  {
   "cell_type": "code",
   "execution_count": 13,
   "metadata": {
    "collapsed": false
   },
   "outputs": [
    {
     "name": "stdout",
     "output_type": "stream",
     "text": [
      "3\n"
     ]
    }
   ],
   "source": [
    "\"\"\"소괄호는 때에 따라, 우선순위 연산자 혹은 튜플로 쓰인다.\"\"\"\n",
    "\n",
    "number1 = (1+3)  #우선순위 연산자\n",
    "number1 = (1+3,) #튜플\n",
    "number3 = (3)    #우선순위\n",
    "number4 = (3,)   #튜플\n",
    "\n",
    "\"\"\"Packing / Unpacking\"\"\"\n",
    "numbers = (1,2,3)    #packing\n",
    "v1, v2, v3 = numbers #unpacking\n",
    "## v for what?"
   ]
  },
  {
   "cell_type": "markdown",
   "metadata": {},
   "source": [
    "## Set (집합형)"
   ]
  },
  {
   "cell_type": "code",
   "execution_count": 17,
   "metadata": {
    "collapsed": false
   },
   "outputs": [
    {
     "name": "stdout",
     "output_type": "stream",
     "text": [
      "{1, 3, 4, 5}\n",
      "{3, 5}\n",
      "{1, 3, 4, 5, 11, 13, 14, 15}\n",
      "{1, 4}\n",
      "{3, 5, 11, 13, 14, 15}\n"
     ]
    }
   ],
   "source": [
    "\"\"\"리스트나 튜플과 다르게 순서가 없다.\"\"\"\n",
    "### 즉, 중복되는 것은 하나로 처리함. \n",
    "set_numbers = {1,3,4,5,1,4,3,1}\n",
    "print(set_numbers)\n",
    "\n",
    "\"\"\"합집합, 교집합, 차집합, 여집합 연산 지원\"\"\"\n",
    "set_numbers1 = {1,3,4,5,1,4,3,1}\n",
    "set_numbers2 = {1,4,11,13,14,15,11,14,13,11}\n",
    "print(set_numbers1 - set_numbers2)\n",
    "print(set_numbers1 | set_numbers2) #합집합\n",
    "print(set_numbers1 & set_numbers2) #교집합\n",
    "print(set_numbers1 ^ set_numbers2) #여집합\n",
    "## 합집합 기호는 뭐지..? \\ 위에 있는 것?"
   ]
  },
  {
   "cell_type": "markdown",
   "metadata": {},
   "source": [
    "## Dict (사전형) (2)"
   ]
  },
  {
   "cell_type": "code",
   "execution_count": 18,
   "metadata": {
    "collapsed": false
   },
   "outputs": [
    {
     "name": "stdout",
     "output_type": "stream",
     "text": [
      "10\n"
     ]
    },
    {
     "ename": "KeyError",
     "evalue": "'magenta'",
     "output_type": "error",
     "traceback": [
      "\u001b[0;31m---------------------------------------------------------------------------\u001b[0m",
      "\u001b[0;31mKeyError\u001b[0m                                  Traceback (most recent call last)",
      "\u001b[0;32m<ipython-input-18-9bd09ce23c7f>\u001b[0m in \u001b[0;36m<module>\u001b[0;34m()\u001b[0m\n\u001b[1;32m      2\u001b[0m \u001b[0;34m\u001b[0m\u001b[0m\n\u001b[1;32m      3\u001b[0m \u001b[0mprint\u001b[0m\u001b[0;34m(\u001b[0m\u001b[0mdict_values\u001b[0m\u001b[0;34m[\u001b[0m\u001b[0;34m'blue'\u001b[0m\u001b[0;34m]\u001b[0m\u001b[0;34m)\u001b[0m \u001b[0;31m#지정 Key의 Value 조회\u001b[0m\u001b[0;34m\u001b[0m\u001b[0m\n\u001b[0;32m----> 4\u001b[0;31m \u001b[0mprint\u001b[0m\u001b[0;34m(\u001b[0m\u001b[0mdict_values\u001b[0m\u001b[0;34m[\u001b[0m\u001b[0;34m'magenta'\u001b[0m\u001b[0;34m]\u001b[0m\u001b[0;34m)\u001b[0m \u001b[0;31m#등록되지 않은 Key에 접근할 경우, KeyError 발생\u001b[0m\u001b[0;34m\u001b[0m\u001b[0m\n\u001b[0m\u001b[1;32m      5\u001b[0m \u001b[0mdict_values\u001b[0m\u001b[0;34m[\u001b[0m\u001b[0;34m'blue'\u001b[0m\u001b[0;34m]\u001b[0m \u001b[0;34m=\u001b[0m \u001b[0;36m20\u001b[0m \u001b[0;31m#지정 Key의 값을 변경\u001b[0m\u001b[0;34m\u001b[0m\u001b[0m\n\u001b[1;32m      6\u001b[0m \u001b[0mdict_values\u001b[0m\u001b[0;34m[\u001b[0m\u001b[0;34m'black'\u001b[0m\u001b[0;34m]\u001b[0m \u001b[0;34m=\u001b[0m \u001b[0;36m30\u001b[0m \u001b[0;31m#새로운 Key:Value를 등록\u001b[0m\u001b[0;34m\u001b[0m\u001b[0m\n",
      "\u001b[0;31mKeyError\u001b[0m: 'magenta'"
     ]
    }
   ],
   "source": [
    "dict_values = {'blue':10, 'yellow':3, 'red':7}\n",
    "\n",
    "print(dict_values['blue']) #지정 Key의 Value 조회\n",
    "print(dict_values['magenta']) #등록되지 않은 Key에 접근할 경우, KeyError 발생\n",
    "dict_values['blue'] = 20 #지정 Key의 값을 변경\n",
    "dict_values['black'] = 30 #새로운 Key:Value를 등록\n",
    "del dict_values['black'] #지정 Key:Value를 제거\n",
    "del dict_values['magenta'] #등록되지 않은 Key값에 접근하여, KeyError 발생"
   ]
  },
  {
   "cell_type": "markdown",
   "metadata": {},
   "source": [
    "## Dict (사전형) (3)"
   ]
  },
  {
   "cell_type": "code",
   "execution_count": 20,
   "metadata": {
    "collapsed": false
   },
   "outputs": [
    {
     "name": "stdout",
     "output_type": "stream",
     "text": [
      "False\n",
      "True\n",
      "blue\n",
      "yellow\n",
      "red\n",
      "blue 10\n",
      "yellow 3\n",
      "red 7\n",
      "blue 10\n",
      "yellow 3\n",
      "red 7\n"
     ]
    }
   ],
   "source": [
    "\"\"\"in 연산자로 지정 Key의 등록여부를 확인\"\"\"\n",
    "dict_values = {'blue':10, 'yellow':3, 'red':7}\n",
    "print('magenta' in dict_values)\n",
    "print('blue' in dict_values)\n",
    "\n",
    "\"\"\"for 루프 순회\"\"\"\n",
    "dict_values = {'blue':10, 'yellow':3, 'red':7}\n",
    "\n",
    "for key in dict_values :\n",
    "    print(key)\n",
    "    \n",
    "for (key,value) in dict_values.items():\n",
    "    print(key,value)\n",
    "## for key,values ~ 로 작성해도 동일 "
   ]
  },
  {
   "cell_type": "markdown",
   "metadata": {},
   "source": [
    "## for 문, 예시"
   ]
  },
  {
   "cell_type": "code",
   "execution_count": 21,
   "metadata": {
    "collapsed": false
   },
   "outputs": [
    {
     "name": "stdout",
     "output_type": "stream",
     "text": [
      "10\n",
      "11\n",
      "12\n"
     ]
    }
   ],
   "source": [
    "for i in range (10,13):\n",
    "    print(i)\n",
    "    "
   ]
  },
  {
   "cell_type": "code",
   "execution_count": 22,
   "metadata": {
    "collapsed": false
   },
   "outputs": [
    {
     "name": "stdout",
     "output_type": "stream",
     "text": [
      "100\n",
      "121\n",
      "144\n"
     ]
    }
   ],
   "source": [
    "for i in range (10, 13):\n",
    "    print(i*i)"
   ]
  },
  {
   "cell_type": "code",
   "execution_count": 23,
   "metadata": {
    "collapsed": false
   },
   "outputs": [
    {
     "name": "stdout",
     "output_type": "stream",
     "text": [
      "100\n",
      "121\n",
      "144\n"
     ]
    }
   ],
   "source": [
    "for i in range (10,13):\n",
    "    print(i**2)"
   ]
  },
  {
   "cell_type": "code",
   "execution_count": 24,
   "metadata": {
    "collapsed": false
   },
   "outputs": [
    {
     "name": "stdout",
     "output_type": "stream",
     "text": [
      "100\n",
      "400\n",
      "900\n"
     ]
    }
   ],
   "source": [
    "for i in [10,20,30]:\n",
    "    print(i**2)"
   ]
  },
  {
   "cell_type": "markdown",
   "metadata": {},
   "source": [
    "## while 예시"
   ]
  },
  {
   "cell_type": "code",
   "execution_count": 26,
   "metadata": {
    "collapsed": false
   },
   "outputs": [
    {
     "name": "stdout",
     "output_type": "stream",
     "text": [
      "10\n",
      "11\n",
      "12\n"
     ]
    }
   ],
   "source": [
    "i = 10\n",
    "while i < 13:\n",
    "    print(i)\n",
    "    i += 1 "
   ]
  },
  {
   "cell_type": "code",
   "execution_count": 27,
   "metadata": {
    "collapsed": false
   },
   "outputs": [
    {
     "name": "stdout",
     "output_type": "stream",
     "text": [
      "100\n",
      "121\n",
      "144\n"
     ]
    }
   ],
   "source": [
    "i = 10\n",
    "while i < 13 :\n",
    "    print (i*i)\n",
    "    i+=1"
   ]
  },
  {
   "cell_type": "code",
   "execution_count": 28,
   "metadata": {
    "collapsed": false
   },
   "outputs": [
    {
     "name": "stdout",
     "output_type": "stream",
     "text": [
      "100\n",
      "121\n",
      "144\n"
     ]
    }
   ],
   "source": [
    "i = 10\n",
    "while i < 13 :\n",
    "    print(i**2)\n",
    "    i+=1"
   ]
  },
  {
   "cell_type": "markdown",
   "metadata": {},
   "source": [
    "## 무한루프"
   ]
  },
  {
   "cell_type": "code",
   "execution_count": 2,
   "metadata": {
    "collapsed": false
   },
   "outputs": [
    {
     "data": {
      "text/plain": [
       "' <반복문 조건>이 항시 True일 때'"
      ]
     },
     "execution_count": 2,
     "metadata": {},
     "output_type": "execute_result"
    }
   ],
   "source": [
    "\"\"\" <반복문 조건>이 항시 True일 때\"\"\"\n",
    "#i = 10\n",
    "#while i < 13:\n",
    " #   print(i)\n",
    " #i -= 1"
   ]
  },
  {
   "cell_type": "code",
   "execution_count": null,
   "metadata": {
    "collapsed": true
   },
   "outputs": [],
   "source": [
    "\"\"\"for 에서는 itertools.count 함수를 통해 가능\"\"\"\n",
    "#from itertools import count\n",
    "\n",
    "#for i in count(1):\n",
    " #   print(i)"
   ]
  },
  {
   "cell_type": "code",
   "execution_count": null,
   "metadata": {
    "collapsed": true
   },
   "outputs": [],
   "source": []
  }
 ],
 "metadata": {
  "kernelspec": {
   "display_name": "Python 3",
   "language": "python",
   "name": "python3"
  },
  "language_info": {
   "codemirror_mode": {
    "name": "ipython",
    "version": 3
   },
   "file_extension": ".py",
   "mimetype": "text/x-python",
   "name": "python",
   "nbconvert_exporter": "python",
   "pygments_lexer": "ipython3",
   "version": "3.6.0"
  }
 },
 "nbformat": 4,
 "nbformat_minor": 2
}
