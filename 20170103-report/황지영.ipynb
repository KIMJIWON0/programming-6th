{
 "cells": [
  {
   "cell_type": "markdown",
   "metadata": {},
   "source": [
    "## 피로그래밍 학습 1 - 기본 자료구조 (20160104) ##"
   ]
  },
  {
   "cell_type": "markdown",
   "metadata": {},
   "source": [
    "### 1. List ###"
   ]
  },
  {
   "cell_type": "code",
   "execution_count": 20,
   "metadata": {
    "collapsed": false
   },
   "outputs": [
    {
     "name": "stdout",
     "output_type": "stream",
     "text": [
      "1\n",
      "9\n",
      "[1, 3, 5, 9, 11, 13]\n"
     ]
    }
   ],
   "source": [
    "numbers_1 = [1,3,5,7,9]\n",
    "print(numbers[0])  # dict와 달리 순서(index-indice)가 있다. 거의 모든 언어에서 인덱스는 0부터 시작한다. 파이썬은 거의 유일하게 음수 인덱스를 지원한다.\n",
    "print(numbers[-1])\n",
    "numbers.append(11)\n",
    "numbers.pop(3)\n",
    "# numbers.remove(3)\n",
    "numbers.insert(5,13)\n",
    "print(numbers)"
   ]
  },
  {
   "cell_type": "code",
   "execution_count": 4,
   "metadata": {
    "collapsed": false
   },
   "outputs": [
    {
     "name": "stdout",
     "output_type": "stream",
     "text": [
      "5\n"
     ]
    }
   ],
   "source": [
    "numbers = [1,2,3,4,5]\n",
    "print(len(numbers))  # 마지막 인덱스는 4이지만 len은 5이다.\n",
    "\n",
    "'''len()은 built-in 함수라고 한다. 정의하지 않아도, 가져오지 않아도(import) 바로 쓸 수 있는 함수.'''"
   ]
  },
  {
   "cell_type": "code",
   "execution_count": 27,
   "metadata": {
    "collapsed": false
   },
   "outputs": [
    {
     "name": "stdout",
     "output_type": "stream",
     "text": [
      "2\n",
      "4\n",
      "6\n",
      "8\n",
      "10\n",
      "12\n",
      "[4, 6]\n",
      "[4, 6, 8, 10, 12]\n",
      "[2, 4, 6]\n",
      "[4, 8, 12]\n"
     ]
    }
   ],
   "source": [
    "numbers_2 = [2,4,6,8,10,12]\n",
    "for i in numbers:\n",
    "    print(i)\n",
    "\n",
    "print(numbers[1:3])\n",
    "print(numbers[1:])\n",
    "print(numbers[:3])\n",
    "print(numbers[1:6:2])"
   ]
  },
  {
   "cell_type": "code",
   "execution_count": 29,
   "metadata": {
    "collapsed": false
   },
   "outputs": [
    {
     "name": "stdout",
     "output_type": "stream",
     "text": [
      "[3, 7, 11, 15, 19]\n"
     ]
    }
   ],
   "source": [
    "numbers_1 = [1,3,5,7,9]\n",
    "numbers_2 = [2,4,6,8,10,12]\n",
    "\n",
    "print([i+j for i,j in zip(numbers_1,numbers_2)])  # numbers_2에 마지막 12는 더해지지 않는다."
   ]
  },
  {
   "cell_type": "markdown",
   "metadata": {},
   "source": [
    "### 2. Tuple"
   ]
  },
  {
   "cell_type": "code",
   "execution_count": 21,
   "metadata": {
    "collapsed": false
   },
   "outputs": [
    {
     "name": "stdout",
     "output_type": "stream",
     "text": [
      "1\n",
      "2\n",
      "3\n",
      "4\n",
      "5\n"
     ]
    }
   ],
   "source": [
    "numbers = (1,2,3,4,5)\n",
    "numbers[0]\n",
    "\n",
    "for i in numbers:\n",
    "    print(i)"
   ]
  },
  {
   "cell_type": "code",
   "execution_count": 23,
   "metadata": {
    "collapsed": false
   },
   "outputs": [
    {
     "name": "stdout",
     "output_type": "stream",
     "text": [
      "5\n"
     ]
    }
   ],
   "source": [
    "numbers = (1,2,3,4,5)\n",
    "    \n",
    "v1,v2,v3,v4,v5 = numbers  ## packing. tuple의 소괄호는 생략가능하다!\n",
    "print(v5)"
   ]
  },
  {
   "cell_type": "markdown",
   "metadata": {},
   "source": [
    "### 3. Set"
   ]
  },
  {
   "cell_type": "code",
   "execution_count": 16,
   "metadata": {
    "collapsed": false
   },
   "outputs": [
    {
     "name": "stdout",
     "output_type": "stream",
     "text": [
      "{2, 4, 8, 10, 14, 16}\n",
      "{2, 3, 4, 6, 8, 9, 10, 12, 14, 15, 16, 18, 21, 24}\n",
      "{12, 6}\n",
      "{2, 3, 4, 8, 9, 10, 14, 15, 16, 18, 21, 24}\n"
     ]
    }
   ],
   "source": [
    "set_numbers_1 = {2,4,6,8,10,12,14,16}\n",
    "set_numbers_2 = {3,6,9,12,15,18,21,24}\n",
    "set_numbers_1\n",
    "\n",
    "print(set_numbers_1 - set_numbers_2)\n",
    "print(set_numbers_1 | set_numbers_2)\n",
    "print(set_numbers_1 & set_numbers_2)\n",
    "print(set_numbers_1 ^ set_numbers_2)"
   ]
  },
  {
   "cell_type": "markdown",
   "metadata": {},
   "source": [
    "### 4. Dict"
   ]
  },
  {
   "cell_type": "code",
   "execution_count": 35,
   "metadata": {
    "collapsed": false
   },
   "outputs": [
    {
     "name": "stdout",
     "output_type": "stream",
     "text": [
      "{'red': 7, 'yellow': 3, 'blue': 10}\n",
      "{'red': 7, 'violet': 4, 'yellow': 3, 'blue': 10}\n",
      "{'red': 7, 'violet': 4, 'yellow': 3, 'blue': 100}\n",
      "{'red': 7, 'violet': 4, 'blue': 100}\n",
      "True\n"
     ]
    }
   ],
   "source": [
    "colors = { 'blue': 10, 'yellow': 3, 'red': 7 }\n",
    "print(colors)\n",
    "\n",
    "colors['violet'] = 4\n",
    "print(colors)\n",
    "\n",
    "colors['blue'] = 100\n",
    "print(colors)\n",
    "\n",
    "del colors['yellow']\n",
    "print(colors)\n",
    "print('blue' in colors)  # key로 있는지 없는지 확인"
   ]
  },
  {
   "cell_type": "code",
   "execution_count": 38,
   "metadata": {
    "collapsed": false
   },
   "outputs": [
    {
     "name": "stdout",
     "output_type": "stream",
     "text": [
      "red\n",
      "yellow\n",
      "blue\n",
      "-----\n",
      "red 7\n",
      "yellow 3\n",
      "blue 10\n",
      "-----\n",
      "red 7\n",
      "yellow 3\n",
      "blue 10\n"
     ]
    }
   ],
   "source": [
    "colors = { 'blue': 10, 'yellow': 3, 'red': 7 }\n",
    "\n",
    "for k in colors:  # 'in colors'가 자동으로 k를 key로 인식. 기준이 key니까.\n",
    "    print(k)\n",
    "    \n",
    "print('-----')\n",
    "    \n",
    "for k,v in colors.items():  # k,v >>> 이게 바로 tuple!\n",
    "    print(k,v)  ## unpacking\n",
    "    \n",
    "print('-----')\n",
    "\n",
    "for k in colors:\n",
    "    v = colors[k]\n",
    "    print(k,v)"
   ]
  },
  {
   "cell_type": "markdown",
   "metadata": {},
   "source": [
    "### 5. Block statement & Indentation"
   ]
  },
  {
   "cell_type": "code",
   "execution_count": 39,
   "metadata": {
    "collapsed": false
   },
   "outputs": [
    {
     "data": {
      "text/plain": [
       "'github에서 tab과 4띄어쓰기 사용 빈도 비교했는데 tab이 3%, 4띄어쓰기가 92%를 차지했음.\\n그렇다면 협업할 때는 주석에 내가 tab을 썼다, space를 썼다 꼭 써줘야겠다'"
      ]
     },
     "execution_count": 39,
     "metadata": {},
     "output_type": "execute_result"
    }
   ],
   "source": [
    "# if-esle, for, print, return\n",
    "'''github에서 tab과 4띄어쓰기 사용 빈도 비교했는데 tab이 3%, 4띄어쓰기가 92%를 차지했음.\n",
    "그렇다면 협업할 때는 주석에 내가 tab을 썼다, space를 썼다 꼭 써줘야겠다'''"
   ]
  },
  {
   "cell_type": "markdown",
   "metadata": {},
   "source": [
    "### 6. Comments"
   ]
  },
  {
   "cell_type": "code",
   "execution_count": 30,
   "metadata": {
    "collapsed": true
   },
   "outputs": [],
   "source": [
    "# 한줄주석"
   ]
  },
  {
   "cell_type": "code",
   "execution_count": 40,
   "metadata": {
    "collapsed": false
   },
   "outputs": [
    {
     "data": {
      "text/plain": [
       "'여러줄 주석'"
      ]
     },
     "execution_count": 40,
     "metadata": {},
     "output_type": "execute_result"
    }
   ],
   "source": [
    "'''여러줄 주석'''"
   ]
  },
  {
   "cell_type": "markdown",
   "metadata": {},
   "source": [
    "### 7. If 문"
   ]
  },
  {
   "cell_type": "code",
   "execution_count": null,
   "metadata": {
    "collapsed": true
   },
   "outputs": [],
   "source": []
  }
 ],
 "metadata": {
  "kernelspec": {
   "display_name": "Python 3",
   "language": "python",
   "name": "python3"
  },
  "language_info": {
   "codemirror_mode": {
    "name": "ipython",
    "version": 3
   },
   "file_extension": ".py",
   "mimetype": "text/x-python",
   "name": "python",
   "nbconvert_exporter": "python",
   "pygments_lexer": "ipython3",
   "version": "3.5.2"
  }
 },
 "nbformat": 4,
 "nbformat_minor": 2
}
